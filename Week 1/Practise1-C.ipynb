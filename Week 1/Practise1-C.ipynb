{
 "cells": [
  {
   "cell_type": "code",
   "execution_count": 1,
   "metadata": {},
   "outputs": [
    {
     "name": "stdout",
     "output_type": "stream",
     "text": [
      "** The tempreture Converter**\n",
      "To convert from Celsius to Fehernhit press (1), To convert from Fehrenhit to Celsius Press (2):1\n",
      "Enter the tempreture in Celsius: 25\n",
      "The tempreture in Fehernhit is:  77.0\n",
      "Thank you !\n"
     ]
    }
   ],
   "source": [
    "#Assignment1 (abedalaziz khalaf)\n",
    "# Question 1 (C)\n",
    "print(\"** The tempreture Converter**\" )\n",
    "\n",
    "F1=int(input(\"To convert from Celsius to Fehernhit press (1), To convert from Fehrenhit to Celsius Press (2):\"))\n",
    "if F1==1:\n",
    "    F2=float(input(\"Enter the tempreture in Celsius: \"))\n",
    "    F3=1.8*F2 + 32\n",
    "    print(\"The tempreture in Fehernhit is: \", F3)\n",
    "elif F1==2:\n",
    "    C1=float(input(\"Enter the tempreture in Fehernhit: \"))\n",
    "    C2=(C1-32)/1.8\n",
    "    print(\"The tempreture in Celsius is: \", C2)\n",
    "else:\n",
    "    print(\"Invalid value\")\n"
   ]
  },
  {
   "cell_type": "code",
   "execution_count": null,
   "metadata": {},
   "outputs": [],
   "source": []
  },
  {
   "cell_type": "code",
   "execution_count": null,
   "metadata": {},
   "outputs": [],
   "source": []
  }
 ],
 "metadata": {
  "kernelspec": {
   "display_name": "Python 3",
   "language": "python",
   "name": "python3"
  },
  "language_info": {
   "codemirror_mode": {
    "name": "ipython",
    "version": 3
   },
   "file_extension": ".py",
   "mimetype": "text/x-python",
   "name": "python",
   "nbconvert_exporter": "python",
   "pygments_lexer": "ipython3",
   "version": "3.7.0"
  }
 },
 "nbformat": 4,
 "nbformat_minor": 2
}
