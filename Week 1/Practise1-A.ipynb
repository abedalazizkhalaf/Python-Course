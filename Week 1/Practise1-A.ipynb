{
 "cells": [
  {
   "cell_type": "code",
   "execution_count": 2,
   "metadata": {},
   "outputs": [
    {
     "name": "stdout",
     "output_type": "stream",
     "text": [
      "Enter your Name:Abedalziz\n",
      "Welcom Abedalziz :)\n",
      "Enter your 1st number:15\n",
      "Enter your 2nd number:12\n",
      "\"5 + your 1st number is:\" 20.0\n",
      "\"5 + your 2nd number is:\" 17.0\n",
      "\"5 - your 1st number is:\" 10.0\n",
      "\"5 - your 2nd number is:\" 7.0\n",
      "\"5 * your 1st number is:\" 75.0\n",
      "\"5 * your 2nd number is:\" 60.0\n",
      "\"5 / your 1st number is:\" 3.0\n",
      "\"5 / your 2nd number is:\" 2.4\n",
      "the reminder of 15.0 over 5 is: 0.0\n",
      "the reminder of 12.0 over 5 is: 2.0\n",
      "the exponent of 15.0 is: 759375.0\n",
      "the exponent of 12.0 is: 248832.0\n"
     ]
    }
   ],
   "source": [
    "#Assignment1 (abedalaziz khalaf)\n",
    "# Question 1 (a)\n",
    "name=input(\"Enter your Name:\")\n",
    "print(\"Welcom\",name, \":)\")\n",
    "number1= float(input(\"Enter your 1st number:\"))\n",
    "number2= float(input(\"Enter your 2nd number:\"))\n",
    "Sum1=float(number1 +5)\n",
    "Sum2=float(number2 +5)\n",
    "Sub1=float(number1 -5)\n",
    "Sub2=float(number2 -5)\n",
    "Mul1=float(number1 *5)\n",
    "Mul2=float(number2 *5)\n",
    "Div1=float(number1 /5)\n",
    "Div2=float(number2 /5)\n",
    "Rem1=float(number1 %5)\n",
    "Rem2=float(number2 %5)\n",
    "Ex1= float(number1**5)\n",
    "Ex2= float(number2**5)\n",
    "print(\"\\\"5 + your 1st number is:\\\"\", Sum1)\n",
    "print(\"\\\"5 + your 2nd number is:\\\"\", Sum2)\n",
    "print(\"\\\"5 - your 1st number is:\\\"\", Sub1)\n",
    "print(\"\\\"5 - your 2nd number is:\\\"\", Sub2)\n",
    "print(\"\\\"5 * your 1st number is:\\\"\", Mul1)\n",
    "print(\"\\\"5 * your 2nd number is:\\\"\", Mul2)\n",
    "print(\"\\\"5 / your 1st number is:\\\"\", Div1)\n",
    "print(\"\\\"5 / your 2nd number is:\\\"\", Div2)\n",
    "print(\"the reminder of\", number1, \"over 5 is:\", Rem1)\n",
    "print(\"the reminder of\", number2, \"over 5 is:\", Rem2)\n",
    "print(\"the exponent of\", number1, \"is:\", Ex1)\n",
    "print(\"the exponent of\", number2, \"is:\", Ex2)\n"
   ]
  },
  {
   "cell_type": "code",
   "execution_count": null,
   "metadata": {},
   "outputs": [],
   "source": []
  }
 ],
 "metadata": {
  "kernelspec": {
   "display_name": "Python 3",
   "language": "python",
   "name": "python3"
  },
  "language_info": {
   "codemirror_mode": {
    "name": "ipython",
    "version": 3
   },
   "file_extension": ".py",
   "mimetype": "text/x-python",
   "name": "python",
   "nbconvert_exporter": "python",
   "pygments_lexer": "ipython3",
   "version": "3.7.0"
  }
 },
 "nbformat": 4,
 "nbformat_minor": 2
}
