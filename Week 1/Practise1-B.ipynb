{
 "cells": [
  {
   "cell_type": "code",
   "execution_count": 1,
   "metadata": {},
   "outputs": [
    {
     "name": "stdout",
     "output_type": "stream",
     "text": [
      "Enter your number:25\n",
      "847288609482.2858\n"
     ]
    }
   ],
   "source": [
    "#Assignment1 (abedalaziz khalaf)\n",
    "# Question 1 (b)\n",
    "x= float(input(\"Enter your number:\"))\n",
    "if x < -100:\n",
    "    result= x*-1\n",
    "elif -100 <= x and x <= -25 :\n",
    "    result= x**4\n",
    "elif 0 < x and x <= 100 :\n",
    "    result= 22/14 *x + 3**x\n",
    "else:\n",
    "    result= x\n",
    "print(result)\n",
    "#Practise1-D\n",
    "# If f(x) has to be an integer number, we should rewrite x as x=int(input(\"Enter your number:\"))\n"
   ]
  },
  {
   "cell_type": "code",
   "execution_count": null,
   "metadata": {},
   "outputs": [],
   "source": []
  }
 ],
 "metadata": {
  "kernelspec": {
   "display_name": "Python 3",
   "language": "python",
   "name": "python3"
  },
  "language_info": {
   "codemirror_mode": {
    "name": "ipython",
    "version": 3
   },
   "file_extension": ".py",
   "mimetype": "text/x-python",
   "name": "python",
   "nbconvert_exporter": "python",
   "pygments_lexer": "ipython3",
   "version": "3.7.0"
  }
 },
 "nbformat": 4,
 "nbformat_minor": 2
}
