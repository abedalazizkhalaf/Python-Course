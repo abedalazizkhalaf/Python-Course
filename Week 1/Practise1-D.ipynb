{
 "cells": [
  {
   "cell_type": "code",
   "execution_count": null,
   "metadata": {},
   "outputs": [],
   "source": [
    "#Assignment1 (abedalaziz khalaf)\n",
    "# Question 1 (E)\n",
    "# Difference between Compiler and Interpreter\n",
    "# 1) Compiler Takes Entire program as input, Interpreter takes Single instruction as input.\n",
    "# 2) Compiler: Conditional contrl statements are executes faster, Interperter: slower.\n",
    "# 3) Compiler: Memory Requirement: More, Interperter: Less.\n"
   ]
  }
 ],
 "metadata": {
  "kernelspec": {
   "display_name": "Python 3",
   "language": "python",
   "name": "python3"
  },
  "language_info": {
   "codemirror_mode": {
    "name": "ipython",
    "version": 3
   },
   "file_extension": ".py",
   "mimetype": "text/x-python",
   "name": "python",
   "nbconvert_exporter": "python",
   "pygments_lexer": "ipython3",
   "version": "3.7.0"
  }
 },
 "nbformat": 4,
 "nbformat_minor": 2
}
